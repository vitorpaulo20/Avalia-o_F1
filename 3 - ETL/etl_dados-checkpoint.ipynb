{
 "cells": [
  {
   "cell_type": "markdown",
   "id": "1d8e4ad0-2438-4783-b08f-d838741edcea",
   "metadata": {},
   "source": [
    "## Importação das bibliotecas"
   ]
  },
  {
   "cell_type": "code",
   "execution_count": 2,
   "id": "2e77e331-f773-452a-9f3a-e9ed7adcb23d",
   "metadata": {},
   "outputs": [],
   "source": [
    "import pandas as pd\n",
    "import openpyxl\n",
    "import os"
   ]
  },
  {
   "cell_type": "markdown",
   "id": "b8f2c9b8-bd97-413e-912f-ae585c40ad33",
   "metadata": {},
   "source": [
    "## Criar a pasta 'saída' se não existir"
   ]
  },
  {
   "cell_type": "code",
   "execution_count": 4,
   "id": "5d1a2a4d-b853-46ee-a5ae-433faaba8de7",
   "metadata": {},
   "outputs": [],
   "source": [
    "os.makedirs('extracao', exist_ok=True)"
   ]
  },
  {
   "cell_type": "markdown",
   "id": "c115cf10-2b06-427d-95d6-c093c679655c",
   "metadata": {},
   "source": [
    "## URLs dos arquivos"
   ]
  },
  {
   "cell_type": "code",
   "execution_count": 6,
   "id": "2a38d464-4ffe-4a23-b7a2-8a9b62b39625",
   "metadata": {},
   "outputs": [],
   "source": [
    "url_constructors = 'https://github.com/CaioSobreira/dti_arquivos/raw/main/constructors.csv'\n",
    "url_drivers = 'https://github.com/CaioSobreira/dti_arquivos/raw/main/drivers.csv'\n",
    "url_races = 'https://github.com/CaioSobreira/dti_arquivos/raw/main/races.csv'\n",
    "url_results = 'https://github.com/CaioSobreira/dti_arquivos/raw/main/results.csv'"
   ]
  },
  {
   "cell_type": "markdown",
   "id": "9611785b-490d-4d05-9336-6d5b59ca10ce",
   "metadata": {},
   "source": [
    "## Carregando os DataFrames"
   ]
  },
  {
   "cell_type": "code",
   "execution_count": 8,
   "id": "a4b35c87-0328-4b36-9445-27b6d38826f5",
   "metadata": {},
   "outputs": [],
   "source": [
    "df_constructors = pd.read_csv(url_constructors)\n",
    "df_drivers = pd.read_csv(url_drivers)\n",
    "df_races = pd.read_csv(url_races)\n",
    "df_results = pd.read_csv(url_results)"
   ]
  },
  {
   "cell_type": "markdown",
   "id": "bdd4cdb6-b997-4a26-ae8e-f1985f2971f4",
   "metadata": {},
   "source": [
    "## Tratamento df_constructors"
   ]
  },
  {
   "cell_type": "code",
   "execution_count": 10,
   "id": "8d643dd9-3c75-4f5c-aa05-5c4bc8211ce6",
   "metadata": {},
   "outputs": [
    {
     "data": {
      "text/html": [
       "<div>\n",
       "<style scoped>\n",
       "    .dataframe tbody tr th:only-of-type {\n",
       "        vertical-align: middle;\n",
       "    }\n",
       "\n",
       "    .dataframe tbody tr th {\n",
       "        vertical-align: top;\n",
       "    }\n",
       "\n",
       "    .dataframe thead th {\n",
       "        text-align: right;\n",
       "    }\n",
       "</style>\n",
       "<table border=\"1\" class=\"dataframe\">\n",
       "  <thead>\n",
       "    <tr style=\"text-align: right;\">\n",
       "      <th></th>\n",
       "      <th>montadora_id</th>\n",
       "      <th>nome</th>\n",
       "      <th>nacionalidade</th>\n",
       "    </tr>\n",
       "  </thead>\n",
       "  <tbody>\n",
       "    <tr>\n",
       "      <th>0</th>\n",
       "      <td>1</td>\n",
       "      <td>McLaren</td>\n",
       "      <td>British</td>\n",
       "    </tr>\n",
       "    <tr>\n",
       "      <th>1</th>\n",
       "      <td>2</td>\n",
       "      <td>BMW Sauber</td>\n",
       "      <td>German</td>\n",
       "    </tr>\n",
       "    <tr>\n",
       "      <th>2</th>\n",
       "      <td>3</td>\n",
       "      <td>Williams</td>\n",
       "      <td>British</td>\n",
       "    </tr>\n",
       "    <tr>\n",
       "      <th>3</th>\n",
       "      <td>4</td>\n",
       "      <td>Renault</td>\n",
       "      <td>French</td>\n",
       "    </tr>\n",
       "    <tr>\n",
       "      <th>4</th>\n",
       "      <td>5</td>\n",
       "      <td>Toro Rosso</td>\n",
       "      <td>Italian</td>\n",
       "    </tr>\n",
       "  </tbody>\n",
       "</table>\n",
       "</div>"
      ],
      "text/plain": [
       "   montadora_id        nome nacionalidade\n",
       "0             1     McLaren       British\n",
       "1             2  BMW Sauber        German\n",
       "2             3    Williams       British\n",
       "3             4     Renault        French\n",
       "4             5  Toro Rosso       Italian"
      ]
     },
     "execution_count": 10,
     "metadata": {},
     "output_type": "execute_result"
    }
   ],
   "source": [
    "df_constructors = df_constructors.drop(['constructorRef', 'url'], axis=1)\n",
    "\n",
    "renomear_colunas = {\n",
    "    \"constructorId\": \"montadora_id\",\n",
    "    \"name\": \"nome\",\n",
    "    \"nationality\": \"nacionalidade\"\n",
    "    \n",
    "}\n",
    "df_constructors = df_constructors.rename(columns=renomear_colunas)\n",
    "\n",
    "df_constructors.head()\n"
   ]
  },
  {
   "cell_type": "markdown",
   "id": "eed6bae7-e9be-46fe-af7e-e17536424a2d",
   "metadata": {},
   "source": [
    "## Tratamento df_drivers"
   ]
  },
  {
   "cell_type": "code",
   "execution_count": 12,
   "id": "51627ce7-a88e-4802-8800-a66e71563deb",
   "metadata": {},
   "outputs": [
    {
     "data": {
      "text/html": [
       "<div>\n",
       "<style scoped>\n",
       "    .dataframe tbody tr th:only-of-type {\n",
       "        vertical-align: middle;\n",
       "    }\n",
       "\n",
       "    .dataframe tbody tr th {\n",
       "        vertical-align: top;\n",
       "    }\n",
       "\n",
       "    .dataframe thead th {\n",
       "        text-align: right;\n",
       "    }\n",
       "</style>\n",
       "<table border=\"1\" class=\"dataframe\">\n",
       "  <thead>\n",
       "    <tr style=\"text-align: right;\">\n",
       "      <th></th>\n",
       "      <th>piloto_id</th>\n",
       "      <th>nacionalidade</th>\n",
       "      <th>nome_completo</th>\n",
       "    </tr>\n",
       "  </thead>\n",
       "  <tbody>\n",
       "    <tr>\n",
       "      <th>0</th>\n",
       "      <td>1</td>\n",
       "      <td>British</td>\n",
       "      <td>Lewis Hamilton</td>\n",
       "    </tr>\n",
       "    <tr>\n",
       "      <th>1</th>\n",
       "      <td>2</td>\n",
       "      <td>German</td>\n",
       "      <td>Nick Heidfeld</td>\n",
       "    </tr>\n",
       "    <tr>\n",
       "      <th>2</th>\n",
       "      <td>3</td>\n",
       "      <td>German</td>\n",
       "      <td>Nico Rosberg</td>\n",
       "    </tr>\n",
       "    <tr>\n",
       "      <th>3</th>\n",
       "      <td>4</td>\n",
       "      <td>Spanish</td>\n",
       "      <td>Fernando Alonso</td>\n",
       "    </tr>\n",
       "    <tr>\n",
       "      <th>4</th>\n",
       "      <td>5</td>\n",
       "      <td>Finnish</td>\n",
       "      <td>Heikki Kovalainen</td>\n",
       "    </tr>\n",
       "  </tbody>\n",
       "</table>\n",
       "</div>"
      ],
      "text/plain": [
       "   piloto_id nacionalidade      nome_completo\n",
       "0          1       British     Lewis Hamilton\n",
       "1          2        German      Nick Heidfeld\n",
       "2          3        German       Nico Rosberg\n",
       "3          4       Spanish    Fernando Alonso\n",
       "4          5       Finnish  Heikki Kovalainen"
      ]
     },
     "execution_count": 12,
     "metadata": {},
     "output_type": "execute_result"
    }
   ],
   "source": [
    "df_drivers['nomeCompleto'] = df_drivers['forename'] + ' ' + df_drivers['surname']\n",
    "\n",
    "df_drivers = df_drivers.drop(['forename', 'surname','url','number','dob','code','driverRef'], axis=1)\n",
    "\n",
    "renomear_colunas2 = {\n",
    "    \"driverId\": \"piloto_id\",\n",
    "    \"nomeCompleto\": \"nome_completo\",\n",
    "    \"nationality\": \"nacionalidade\"\n",
    "}\n",
    "df_drivers = df_drivers.rename(columns=renomear_colunas2)\n",
    "\n",
    "df_drivers.head()"
   ]
  },
  {
   "cell_type": "markdown",
   "id": "0ceeaaa6-0894-4682-9c25-4c942fe9f6b1",
   "metadata": {},
   "source": [
    "## Tratamento df_races"
   ]
  },
  {
   "cell_type": "code",
   "execution_count": 14,
   "id": "c5e7d195-1b65-4f38-b502-b67e2164d236",
   "metadata": {},
   "outputs": [
    {
     "data": {
      "text/html": [
       "<div>\n",
       "<style scoped>\n",
       "    .dataframe tbody tr th:only-of-type {\n",
       "        vertical-align: middle;\n",
       "    }\n",
       "\n",
       "    .dataframe tbody tr th {\n",
       "        vertical-align: top;\n",
       "    }\n",
       "\n",
       "    .dataframe thead th {\n",
       "        text-align: right;\n",
       "    }\n",
       "</style>\n",
       "<table border=\"1\" class=\"dataframe\">\n",
       "  <thead>\n",
       "    <tr style=\"text-align: right;\">\n",
       "      <th></th>\n",
       "      <th>corrida_id</th>\n",
       "      <th>ano</th>\n",
       "      <th>nome</th>\n",
       "      <th>corrida_data</th>\n",
       "    </tr>\n",
       "  </thead>\n",
       "  <tbody>\n",
       "    <tr>\n",
       "      <th>0</th>\n",
       "      <td>1</td>\n",
       "      <td>2009</td>\n",
       "      <td>Australian Grand Prix</td>\n",
       "      <td>2009-03-29</td>\n",
       "    </tr>\n",
       "    <tr>\n",
       "      <th>1</th>\n",
       "      <td>2</td>\n",
       "      <td>2009</td>\n",
       "      <td>Malaysian Grand Prix</td>\n",
       "      <td>2009-04-05</td>\n",
       "    </tr>\n",
       "    <tr>\n",
       "      <th>2</th>\n",
       "      <td>3</td>\n",
       "      <td>2009</td>\n",
       "      <td>Chinese Grand Prix</td>\n",
       "      <td>2009-04-19</td>\n",
       "    </tr>\n",
       "    <tr>\n",
       "      <th>3</th>\n",
       "      <td>4</td>\n",
       "      <td>2009</td>\n",
       "      <td>Bahrain Grand Prix</td>\n",
       "      <td>2009-04-26</td>\n",
       "    </tr>\n",
       "    <tr>\n",
       "      <th>4</th>\n",
       "      <td>5</td>\n",
       "      <td>2009</td>\n",
       "      <td>Spanish Grand Prix</td>\n",
       "      <td>2009-05-10</td>\n",
       "    </tr>\n",
       "  </tbody>\n",
       "</table>\n",
       "</div>"
      ],
      "text/plain": [
       "   corrida_id   ano                   nome corrida_data\n",
       "0           1  2009  Australian Grand Prix   2009-03-29\n",
       "1           2  2009   Malaysian Grand Prix   2009-04-05\n",
       "2           3  2009     Chinese Grand Prix   2009-04-19\n",
       "3           4  2009     Bahrain Grand Prix   2009-04-26\n",
       "4           5  2009     Spanish Grand Prix   2009-05-10"
      ]
     },
     "execution_count": 14,
     "metadata": {},
     "output_type": "execute_result"
    }
   ],
   "source": [
    "df_races = df_races.drop(['time', 'url', 'fp1_date', 'fp1_time', 'fp2_date', 'fp2_time', 'fp3_date', 'fp3_time', 'quali_date', 'quali_time', 'sprint_date', 'sprint_time', 'round', 'circuitId'], axis=1)\n",
    "\n",
    "renomear_colunas3 = {\n",
    "    \"raceId\": \"corrida_id\",\n",
    "    \"year\": \"ano\",\n",
    "    \"name\": \"nome\",\n",
    "    \"date\": \"corrida_data\"\n",
    "}\n",
    "df_races = df_races.rename(columns=renomear_colunas3)\n",
    "\n",
    "df_races.head()"
   ]
  },
  {
   "cell_type": "markdown",
   "id": "5f0cb577-c4af-4aef-9525-320bb88959f2",
   "metadata": {},
   "source": [
    "## Tratamento df_results"
   ]
  },
  {
   "cell_type": "code",
   "execution_count": 16,
   "id": "6765663c-e387-4577-8f7c-5b136f6f8d40",
   "metadata": {},
   "outputs": [
    {
     "data": {
      "text/html": [
       "<div>\n",
       "<style scoped>\n",
       "    .dataframe tbody tr th:only-of-type {\n",
       "        vertical-align: middle;\n",
       "    }\n",
       "\n",
       "    .dataframe tbody tr th {\n",
       "        vertical-align: top;\n",
       "    }\n",
       "\n",
       "    .dataframe thead th {\n",
       "        text-align: right;\n",
       "    }\n",
       "</style>\n",
       "<table border=\"1\" class=\"dataframe\">\n",
       "  <thead>\n",
       "    <tr style=\"text-align: right;\">\n",
       "      <th></th>\n",
       "      <th>resultado_id</th>\n",
       "      <th>corrida_id</th>\n",
       "      <th>piloto_id</th>\n",
       "      <th>montadora_id</th>\n",
       "      <th>posicao_ordem</th>\n",
       "      <th>pontos</th>\n",
       "      <th>volta_mais_rapida_tempo</th>\n",
       "    </tr>\n",
       "  </thead>\n",
       "  <tbody>\n",
       "    <tr>\n",
       "      <th>0</th>\n",
       "      <td>1</td>\n",
       "      <td>18</td>\n",
       "      <td>1</td>\n",
       "      <td>1</td>\n",
       "      <td>1</td>\n",
       "      <td>10.0</td>\n",
       "      <td>1:27.452</td>\n",
       "    </tr>\n",
       "    <tr>\n",
       "      <th>1</th>\n",
       "      <td>2</td>\n",
       "      <td>18</td>\n",
       "      <td>2</td>\n",
       "      <td>2</td>\n",
       "      <td>2</td>\n",
       "      <td>8.0</td>\n",
       "      <td>1:27.739</td>\n",
       "    </tr>\n",
       "    <tr>\n",
       "      <th>2</th>\n",
       "      <td>3</td>\n",
       "      <td>18</td>\n",
       "      <td>3</td>\n",
       "      <td>3</td>\n",
       "      <td>3</td>\n",
       "      <td>6.0</td>\n",
       "      <td>1:28.090</td>\n",
       "    </tr>\n",
       "    <tr>\n",
       "      <th>3</th>\n",
       "      <td>4</td>\n",
       "      <td>18</td>\n",
       "      <td>4</td>\n",
       "      <td>4</td>\n",
       "      <td>4</td>\n",
       "      <td>5.0</td>\n",
       "      <td>1:28.603</td>\n",
       "    </tr>\n",
       "    <tr>\n",
       "      <th>4</th>\n",
       "      <td>5</td>\n",
       "      <td>18</td>\n",
       "      <td>5</td>\n",
       "      <td>1</td>\n",
       "      <td>5</td>\n",
       "      <td>4.0</td>\n",
       "      <td>1:27.418</td>\n",
       "    </tr>\n",
       "  </tbody>\n",
       "</table>\n",
       "</div>"
      ],
      "text/plain": [
       "   resultado_id  corrida_id  piloto_id  montadora_id  posicao_ordem  pontos  \\\n",
       "0             1          18          1             1              1    10.0   \n",
       "1             2          18          2             2              2     8.0   \n",
       "2             3          18          3             3              3     6.0   \n",
       "3             4          18          4             4              4     5.0   \n",
       "4             5          18          5             1              5     4.0   \n",
       "\n",
       "  volta_mais_rapida_tempo  \n",
       "0                1:27.452  \n",
       "1                1:27.739  \n",
       "2                1:28.090  \n",
       "3                1:28.603  \n",
       "4                1:27.418  "
      ]
     },
     "execution_count": 16,
     "metadata": {},
     "output_type": "execute_result"
    }
   ],
   "source": [
    "\n",
    "df_results = df_results.drop(['number', 'grid', 'position', 'positionText', 'laps', 'time', 'milliseconds', 'fastestLap', 'rank', 'fastestLapSpeed', 'statusId'], axis=1)\n",
    "\n",
    "renomear_colunas4 = {\n",
    "    \"resultId\": \"resultado_id\",\n",
    "    \"raceId\": \"corrida_id\",\n",
    "    \"driverId\": \"piloto_id\",\n",
    "    \"constructorId\": \"montadora_id\",\n",
    "    \"positionOrder\": \"posicao_ordem\",\n",
    "    \"points\": \"pontos\",\n",
    "    \"fastestLapTime\": \"volta_mais_rapida_tempo\"\n",
    "}\n",
    "df_results = df_results.rename(columns=renomear_colunas4)\n",
    "\n",
    "df_results.head()  "
   ]
  },
  {
   "cell_type": "markdown",
   "id": "9c9c851d-b22d-4403-975a-98bbcf9e909c",
   "metadata": {},
   "source": [
    "## Consultando a saúde dos dados"
   ]
  },
  {
   "cell_type": "code",
   "execution_count": 18,
   "id": "3e830939-9f6b-48d7-aa3b-ec557a60e763",
   "metadata": {},
   "outputs": [
    {
     "data": {
      "text/plain": [
       "(211, 3)"
      ]
     },
     "execution_count": 18,
     "metadata": {},
     "output_type": "execute_result"
    }
   ],
   "source": [
    "df_constructors.shape"
   ]
  },
  {
   "cell_type": "code",
   "execution_count": 19,
   "id": "c2e7fc81-634f-452b-a775-78d496554bd1",
   "metadata": {},
   "outputs": [
    {
     "data": {
      "text/plain": [
       "(858, 3)"
      ]
     },
     "execution_count": 19,
     "metadata": {},
     "output_type": "execute_result"
    }
   ],
   "source": [
    "df_drivers.shape"
   ]
  },
  {
   "cell_type": "code",
   "execution_count": 20,
   "id": "200c6782-dd72-4cfd-bb21-a53f66f6659e",
   "metadata": {},
   "outputs": [
    {
     "data": {
      "text/plain": [
       "(1101, 4)"
      ]
     },
     "execution_count": 20,
     "metadata": {},
     "output_type": "execute_result"
    }
   ],
   "source": [
    "df_races.shape"
   ]
  },
  {
   "cell_type": "code",
   "execution_count": 21,
   "id": "1ea7ccd7-1cb5-4b2e-8233-34f8b9a19888",
   "metadata": {},
   "outputs": [
    {
     "data": {
      "text/plain": [
       "(26220, 7)"
      ]
     },
     "execution_count": 21,
     "metadata": {},
     "output_type": "execute_result"
    }
   ],
   "source": [
    "df_results.shape"
   ]
  },
  {
   "cell_type": "code",
   "execution_count": 22,
   "id": "8e65d1e6-2806-4c9e-b02d-bd5f3049d846",
   "metadata": {},
   "outputs": [
    {
     "name": "stdout",
     "output_type": "stream",
     "text": [
      "<class 'pandas.core.frame.DataFrame'>\n",
      "RangeIndex: 211 entries, 0 to 210\n",
      "Data columns (total 3 columns):\n",
      " #   Column         Non-Null Count  Dtype \n",
      "---  ------         --------------  ----- \n",
      " 0   montadora_id   211 non-null    int64 \n",
      " 1   nome           211 non-null    object\n",
      " 2   nacionalidade  211 non-null    object\n",
      "dtypes: int64(1), object(2)\n",
      "memory usage: 5.1+ KB\n"
     ]
    }
   ],
   "source": [
    "df_constructors.info()"
   ]
  },
  {
   "cell_type": "code",
   "execution_count": 23,
   "id": "f1fcd278-0b14-45ef-9e88-9caee8974e1c",
   "metadata": {},
   "outputs": [
    {
     "name": "stdout",
     "output_type": "stream",
     "text": [
      "<class 'pandas.core.frame.DataFrame'>\n",
      "RangeIndex: 858 entries, 0 to 857\n",
      "Data columns (total 3 columns):\n",
      " #   Column         Non-Null Count  Dtype \n",
      "---  ------         --------------  ----- \n",
      " 0   piloto_id      858 non-null    int64 \n",
      " 1   nacionalidade  858 non-null    object\n",
      " 2   nome_completo  858 non-null    object\n",
      "dtypes: int64(1), object(2)\n",
      "memory usage: 20.2+ KB\n"
     ]
    }
   ],
   "source": [
    "df_drivers.info()"
   ]
  },
  {
   "cell_type": "code",
   "execution_count": 24,
   "id": "59984b69-6963-4c14-8a72-a5c2a734a2c8",
   "metadata": {},
   "outputs": [
    {
     "name": "stdout",
     "output_type": "stream",
     "text": [
      "<class 'pandas.core.frame.DataFrame'>\n",
      "RangeIndex: 1101 entries, 0 to 1100\n",
      "Data columns (total 4 columns):\n",
      " #   Column        Non-Null Count  Dtype \n",
      "---  ------        --------------  ----- \n",
      " 0   corrida_id    1101 non-null   int64 \n",
      " 1   ano           1101 non-null   int64 \n",
      " 2   nome          1101 non-null   object\n",
      " 3   corrida_data  1101 non-null   object\n",
      "dtypes: int64(2), object(2)\n",
      "memory usage: 34.5+ KB\n"
     ]
    }
   ],
   "source": [
    "df_races.info()"
   ]
  },
  {
   "cell_type": "code",
   "execution_count": 25,
   "id": "92cc4e31-b080-4535-99fb-3281c83c8747",
   "metadata": {},
   "outputs": [
    {
     "name": "stdout",
     "output_type": "stream",
     "text": [
      "<class 'pandas.core.frame.DataFrame'>\n",
      "RangeIndex: 26220 entries, 0 to 26219\n",
      "Data columns (total 7 columns):\n",
      " #   Column                   Non-Null Count  Dtype  \n",
      "---  ------                   --------------  -----  \n",
      " 0   resultado_id             26220 non-null  int64  \n",
      " 1   corrida_id               26220 non-null  int64  \n",
      " 2   piloto_id                26220 non-null  int64  \n",
      " 3   montadora_id             26220 non-null  int64  \n",
      " 4   posicao_ordem            26220 non-null  int64  \n",
      " 5   pontos                   26220 non-null  float64\n",
      " 6   volta_mais_rapida_tempo  26220 non-null  object \n",
      "dtypes: float64(1), int64(5), object(1)\n",
      "memory usage: 1.4+ MB\n"
     ]
    }
   ],
   "source": [
    "df_results.info()"
   ]
  },
  {
   "cell_type": "code",
   "execution_count": 26,
   "id": "b661f7d0-7374-4c7f-8276-d47f3247e88e",
   "metadata": {},
   "outputs": [
    {
     "data": {
      "text/plain": [
       "montadora_id     0.0\n",
       "nome             0.0\n",
       "nacionalidade    0.0\n",
       "dtype: float64"
      ]
     },
     "execution_count": 26,
     "metadata": {},
     "output_type": "execute_result"
    }
   ],
   "source": [
    "df_constructors.isnull().sum() / df_constructors.shape[0] * 100"
   ]
  },
  {
   "cell_type": "code",
   "execution_count": 27,
   "id": "8a87e43c-0fbf-4c2a-9825-0c45456abdca",
   "metadata": {},
   "outputs": [
    {
     "data": {
      "text/plain": [
       "piloto_id        0.0\n",
       "nacionalidade    0.0\n",
       "nome_completo    0.0\n",
       "dtype: float64"
      ]
     },
     "execution_count": 27,
     "metadata": {},
     "output_type": "execute_result"
    }
   ],
   "source": [
    "df_drivers.isnull().sum() / df_drivers.shape[0] * 100"
   ]
  },
  {
   "cell_type": "code",
   "execution_count": 28,
   "id": "28432e4f-0afa-404f-b5b0-802906a1f12d",
   "metadata": {},
   "outputs": [
    {
     "data": {
      "text/plain": [
       "corrida_id      0.0\n",
       "ano             0.0\n",
       "nome            0.0\n",
       "corrida_data    0.0\n",
       "dtype: float64"
      ]
     },
     "execution_count": 28,
     "metadata": {},
     "output_type": "execute_result"
    }
   ],
   "source": [
    "df_races.isnull().sum() / df_races.shape[0] * 100"
   ]
  },
  {
   "cell_type": "code",
   "execution_count": 29,
   "id": "0e6cae5a-99ff-46af-a8cf-0e58c13b7539",
   "metadata": {},
   "outputs": [
    {
     "data": {
      "text/plain": [
       "resultado_id               0.0\n",
       "corrida_id                 0.0\n",
       "piloto_id                  0.0\n",
       "montadora_id               0.0\n",
       "posicao_ordem              0.0\n",
       "pontos                     0.0\n",
       "volta_mais_rapida_tempo    0.0\n",
       "dtype: float64"
      ]
     },
     "execution_count": 29,
     "metadata": {},
     "output_type": "execute_result"
    }
   ],
   "source": [
    "df_results.isnull().sum() / df_results.shape[0] * 100"
   ]
  },
  {
   "cell_type": "code",
   "execution_count": 30,
   "id": "4f333dbc-7286-4f3e-9f35-f16583e70696",
   "metadata": {},
   "outputs": [
    {
     "data": {
      "text/html": [
       "<div>\n",
       "<style scoped>\n",
       "    .dataframe tbody tr th:only-of-type {\n",
       "        vertical-align: middle;\n",
       "    }\n",
       "\n",
       "    .dataframe tbody tr th {\n",
       "        vertical-align: top;\n",
       "    }\n",
       "\n",
       "    .dataframe thead th {\n",
       "        text-align: right;\n",
       "    }\n",
       "</style>\n",
       "<table border=\"1\" class=\"dataframe\">\n",
       "  <thead>\n",
       "    <tr style=\"text-align: right;\">\n",
       "      <th></th>\n",
       "      <th>montadora_id</th>\n",
       "      <th>nome</th>\n",
       "      <th>nacionalidade</th>\n",
       "    </tr>\n",
       "  </thead>\n",
       "  <tbody>\n",
       "    <tr>\n",
       "      <th>0</th>\n",
       "      <td>1</td>\n",
       "      <td>McLaren</td>\n",
       "      <td>British</td>\n",
       "    </tr>\n",
       "    <tr>\n",
       "      <th>1</th>\n",
       "      <td>2</td>\n",
       "      <td>BMW Sauber</td>\n",
       "      <td>German</td>\n",
       "    </tr>\n",
       "    <tr>\n",
       "      <th>2</th>\n",
       "      <td>3</td>\n",
       "      <td>Williams</td>\n",
       "      <td>British</td>\n",
       "    </tr>\n",
       "    <tr>\n",
       "      <th>3</th>\n",
       "      <td>4</td>\n",
       "      <td>Renault</td>\n",
       "      <td>French</td>\n",
       "    </tr>\n",
       "    <tr>\n",
       "      <th>4</th>\n",
       "      <td>5</td>\n",
       "      <td>Toro Rosso</td>\n",
       "      <td>Italian</td>\n",
       "    </tr>\n",
       "  </tbody>\n",
       "</table>\n",
       "</div>"
      ],
      "text/plain": [
       "   montadora_id        nome nacionalidade\n",
       "0             1     McLaren       British\n",
       "1             2  BMW Sauber        German\n",
       "2             3    Williams       British\n",
       "3             4     Renault        French\n",
       "4             5  Toro Rosso       Italian"
      ]
     },
     "execution_count": 30,
     "metadata": {},
     "output_type": "execute_result"
    }
   ],
   "source": [
    "df_constructors.head()"
   ]
  },
  {
   "cell_type": "markdown",
   "id": "b56e2f2c-f9bc-48e2-b33d-f4db486976ac",
   "metadata": {},
   "source": [
    "## Criar a pasta 'saída' se não existir"
   ]
  },
  {
   "cell_type": "code",
   "execution_count": 32,
   "id": "b4f9f1ba-5264-4ef1-bf3e-e58146025cc3",
   "metadata": {},
   "outputs": [],
   "source": [
    "os.makedirs('extracao/saída', exist_ok=True)\n",
    "\n",
    "# Caminho do arquivo Excel dentro da pasta\n",
    "pasta_saida = 'extracao/saída'\n",
    "\n",
    "# Salvando cada DataFrame em um arquivo Excel separado\n",
    "df_results.to_excel(os.path.join(pasta_saida, 'resultados.xlsx'), index=False)\n",
    "df_races.to_excel(os.path.join(pasta_saida, 'corridas.xlsx'), index=False)\n",
    "df_drivers.to_excel(os.path.join(pasta_saida, 'pilotos.xlsx'), index=False)\n",
    "df_constructors.to_excel(os.path.join(pasta_saida, 'construtores.xlsx'), index=False)"
   ]
  }
 ],
 "metadata": {
  "kernelspec": {
   "display_name": "Python [conda env:base] *",
   "language": "python",
   "name": "conda-base-py"
  },
  "language_info": {
   "codemirror_mode": {
    "name": "ipython",
    "version": 3
   },
   "file_extension": ".py",
   "mimetype": "text/x-python",
   "name": "python",
   "nbconvert_exporter": "python",
   "pygments_lexer": "ipython3",
   "version": "3.12.7"
  }
 },
 "nbformat": 4,
 "nbformat_minor": 5
}
